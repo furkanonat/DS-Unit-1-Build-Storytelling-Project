{
  "nbformat": 4,
  "nbformat_minor": 0,
  "metadata": {
    "colab": {
      "name": "Furkan_Onat_BuildWeek1_Project.ipynb",
      "provenance": [],
      "collapsed_sections": [
        "tEIasux0-wai",
        "IWHfFO3x-5wU",
        "WA0yNf2l2PG0"
      ],
      "authorship_tag": "ABX9TyPGEsv8resyI6dAEqrztLjq",
      "include_colab_link": true
    },
    "kernelspec": {
      "name": "python3",
      "display_name": "Python 3"
    }
  },
  "cells": [
    {
      "cell_type": "markdown",
      "metadata": {
        "id": "view-in-github",
        "colab_type": "text"
      },
      "source": [
        "<a href=\"https://colab.research.google.com/github/furkanonat/DS-Unit-1-Build-Storytelling-Project/blob/master/Furkan_Onat_BuildWeek1_Project.ipynb\" target=\"_parent\"><img src=\"https://colab.research.google.com/assets/colab-badge.svg\" alt=\"Open In Colab\"/></a>"
      ]
    },
    {
      "cell_type": "markdown",
      "metadata": {
        "id": "a89Y9hwGwT1s",
        "colab_type": "text"
      },
      "source": [
        "# Toy Products in Amazon UK Dataset"
      ]
    },
    {
      "cell_type": "markdown",
      "metadata": {
        "id": "CNxCMbCQwbvj",
        "colab_type": "text"
      },
      "source": [
        "So now let's assume that I am an entrepreneur who is enthusiastic about toys. I find a dataset on Kaggle for toy products offered and sold on Amazon UK. Even though the dataset has no sales figures (items sold, revenue), I will try to find some insights to build my own strategy for product choice and pricing."
      ]
    },
    {
      "cell_type": "markdown",
      "metadata": {
        "id": "tEIasux0-wai",
        "colab_type": "text"
      },
      "source": [
        "# Import Data"
      ]
    },
    {
      "cell_type": "code",
      "metadata": {
        "id": "WiMoiPWmxs7g",
        "colab_type": "code",
        "colab": {}
      },
      "source": [
        "import numpy as np\n",
        "import pandas as pd"
      ],
      "execution_count": 0,
      "outputs": []
    },
    {
      "cell_type": "code",
      "metadata": {
        "id": "NINwmOBLXcrz",
        "colab_type": "code",
        "colab": {}
      },
      "source": [
        "! pip install -q kaggle"
      ],
      "execution_count": 0,
      "outputs": []
    },
    {
      "cell_type": "code",
      "metadata": {
        "id": "0AMndzVNXkgC",
        "colab_type": "code",
        "outputId": "1d63d42e-41ac-48d4-b7c0-a10fa14bfe10",
        "colab": {
          "resources": {
            "http://localhost:8080/nbextensions/google.colab/files.js": {
              "data": "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",
              "ok": true,
              "headers": [
                [
                  "content-type",
                  "application/javascript"
                ]
              ],
              "status": 200,
              "status_text": ""
            }
          },
          "base_uri": "https://localhost:8080/",
          "height": 90
        }
      },
      "source": [
        "from google.colab import files\n",
        "\n",
        "files.upload()"
      ],
      "execution_count": 0,
      "outputs": [
        {
          "output_type": "display_data",
          "data": {
            "text/html": [
              "\n",
              "     <input type=\"file\" id=\"files-4e56e09e-15d4-42bd-b917-d8d3ebaa6591\" name=\"files[]\" multiple disabled />\n",
              "     <output id=\"result-4e56e09e-15d4-42bd-b917-d8d3ebaa6591\">\n",
              "      Upload widget is only available when the cell has been executed in the\n",
              "      current browser session. Please rerun this cell to enable.\n",
              "      </output>\n",
              "      <script src=\"/nbextensions/google.colab/files.js\"></script> "
            ],
            "text/plain": [
              "<IPython.core.display.HTML object>"
            ]
          },
          "metadata": {
            "tags": []
          }
        },
        {
          "output_type": "stream",
          "text": [
            "Saving kaggle.json to kaggle.json\n"
          ],
          "name": "stdout"
        },
        {
          "output_type": "execute_result",
          "data": {
            "text/plain": [
              "{'kaggle.json': b'{\"username\":\"fonat10\",\"key\":\"392f4809ca6e588cb605b2c0e4fe3aa2\"}'}"
            ]
          },
          "metadata": {
            "tags": []
          },
          "execution_count": 3
        }
      ]
    },
    {
      "cell_type": "code",
      "metadata": {
        "id": "6nvZC_DJXki3",
        "colab_type": "code",
        "colab": {}
      },
      "source": [
        "! mkdir ~/.kaggle\n",
        "\n",
        "! cp kaggle.json ~/.kaggle/"
      ],
      "execution_count": 0,
      "outputs": []
    },
    {
      "cell_type": "code",
      "metadata": {
        "id": "NF1FbsvgXkmi",
        "colab_type": "code",
        "colab": {}
      },
      "source": [
        "! chmod 600 ~/.kaggle/kaggle.json"
      ],
      "execution_count": 0,
      "outputs": []
    },
    {
      "cell_type": "code",
      "metadata": {
        "id": "LHVgPWW_RlH5",
        "colab_type": "code",
        "outputId": "9d5ce6e9-ca84-4511-abc2-6a9ceb740ac7",
        "colab": {
          "base_uri": "https://localhost:8080/",
          "height": 70
        }
      },
      "source": [
        "! kaggle datasets download -d PromptCloudHQ/toy-products-on-amazon"
      ],
      "execution_count": 0,
      "outputs": [
        {
          "output_type": "stream",
          "text": [
            "Downloading toy-products-on-amazon.zip to /content\n",
            "\r  0% 0.00/8.18M [00:00<?, ?B/s]\r 61% 5.00M/8.18M [00:00<00:00, 50.2MB/s]\n",
            "\r100% 8.18M/8.18M [00:00<00:00, 52.4MB/s]\n"
          ],
          "name": "stdout"
        }
      ]
    },
    {
      "cell_type": "code",
      "metadata": {
        "id": "WVOhV-UmXkpT",
        "colab_type": "code",
        "outputId": "267f9a70-0286-454c-9ab5-04157d24c608",
        "colab": {
          "base_uri": "https://localhost:8080/",
          "height": 52
        }
      },
      "source": [
        "! unzip /content/toy-products-on-amazon.zip"
      ],
      "execution_count": 0,
      "outputs": [
        {
          "output_type": "stream",
          "text": [
            "Archive:  /content/toy-products-on-amazon.zip\n",
            "  inflating: amazon_co-ecommerce_sample.csv  \n"
          ],
          "name": "stdout"
        }
      ]
    },
    {
      "cell_type": "code",
      "metadata": {
        "id": "OSWJ2_1mRlN9",
        "colab_type": "code",
        "outputId": "689ffa25-421d-4a67-f7ef-37538fc686ac",
        "colab": {
          "base_uri": "https://localhost:8080/",
          "height": 585
        }
      },
      "source": [
        "toys= pd.read_csv('/content/amazon_co-ecommerce_sample.csv')\n",
        "\n",
        "print(toys.shape)\n",
        "toys.head()"
      ],
      "execution_count": 0,
      "outputs": [
        {
          "output_type": "stream",
          "text": [
            "(10000, 17)\n"
          ],
          "name": "stdout"
        },
        {
          "output_type": "execute_result",
          "data": {
            "text/html": [
              "<div>\n",
              "<style scoped>\n",
              "    .dataframe tbody tr th:only-of-type {\n",
              "        vertical-align: middle;\n",
              "    }\n",
              "\n",
              "    .dataframe tbody tr th {\n",
              "        vertical-align: top;\n",
              "    }\n",
              "\n",
              "    .dataframe thead th {\n",
              "        text-align: right;\n",
              "    }\n",
              "</style>\n",
              "<table border=\"1\" class=\"dataframe\">\n",
              "  <thead>\n",
              "    <tr style=\"text-align: right;\">\n",
              "      <th></th>\n",
              "      <th>uniq_id</th>\n",
              "      <th>product_name</th>\n",
              "      <th>manufacturer</th>\n",
              "      <th>price</th>\n",
              "      <th>number_available_in_stock</th>\n",
              "      <th>number_of_reviews</th>\n",
              "      <th>number_of_answered_questions</th>\n",
              "      <th>average_review_rating</th>\n",
              "      <th>amazon_category_and_sub_category</th>\n",
              "      <th>customers_who_bought_this_item_also_bought</th>\n",
              "      <th>description</th>\n",
              "      <th>product_information</th>\n",
              "      <th>product_description</th>\n",
              "      <th>items_customers_buy_after_viewing_this_item</th>\n",
              "      <th>customer_questions_and_answers</th>\n",
              "      <th>customer_reviews</th>\n",
              "      <th>sellers</th>\n",
              "    </tr>\n",
              "  </thead>\n",
              "  <tbody>\n",
              "    <tr>\n",
              "      <th>0</th>\n",
              "      <td>eac7efa5dbd3d667f26eb3d3ab504464</td>\n",
              "      <td>Hornby 2014 Catalogue</td>\n",
              "      <td>Hornby</td>\n",
              "      <td>£3.42</td>\n",
              "      <td>5 new</td>\n",
              "      <td>15</td>\n",
              "      <td>1.0</td>\n",
              "      <td>4.9 out of 5 stars</td>\n",
              "      <td>Hobbies &gt; Model Trains &amp; Railway Sets &gt; Rail V...</td>\n",
              "      <td>http://www.amazon.co.uk/Hornby-R8150-Catalogue...</td>\n",
              "      <td>Product Description Hornby 2014 Catalogue Box ...</td>\n",
              "      <td>Technical Details Item Weight640 g Product Dim...</td>\n",
              "      <td>Product Description Hornby 2014 Catalogue Box ...</td>\n",
              "      <td>http://www.amazon.co.uk/Hornby-R8150-Catalogue...</td>\n",
              "      <td>Does this catalogue detail all the previous Ho...</td>\n",
              "      <td>Worth Buying For The Pictures Alone (As Ever) ...</td>\n",
              "      <td>{\"seller\"=&gt;[{\"Seller_name_1\"=&gt;\"Amazon.co.uk\", ...</td>\n",
              "    </tr>\n",
              "    <tr>\n",
              "      <th>1</th>\n",
              "      <td>b17540ef7e86e461d37f3ae58b7b72ac</td>\n",
              "      <td>FunkyBuys® Large Christmas Holiday Express Fes...</td>\n",
              "      <td>FunkyBuys</td>\n",
              "      <td>£16.99</td>\n",
              "      <td>NaN</td>\n",
              "      <td>2</td>\n",
              "      <td>1.0</td>\n",
              "      <td>4.5 out of 5 stars</td>\n",
              "      <td>Hobbies &gt; Model Trains &amp; Railway Sets &gt; Rail V...</td>\n",
              "      <td>http://www.amazon.co.uk/Christmas-Holiday-Expr...</td>\n",
              "      <td>Size Name:Large FunkyBuys® Large Christmas Hol...</td>\n",
              "      <td>Technical Details Manufacturer recommended age...</td>\n",
              "      <td>Size Name:Large FunkyBuys® Large Christmas Hol...</td>\n",
              "      <td>http://www.amazon.co.uk/Christmas-Holiday-Expr...</td>\n",
              "      <td>can you turn off sounds // hi no you cant turn...</td>\n",
              "      <td>Four Stars // 4.0 // 18 Dec. 2015 // By\\n    \\...</td>\n",
              "      <td>{\"seller\"=&gt;{\"Seller_name_1\"=&gt;\"UHD WHOLESALE\", ...</td>\n",
              "    </tr>\n",
              "    <tr>\n",
              "      <th>2</th>\n",
              "      <td>348f344247b0c1a935b1223072ef9d8a</td>\n",
              "      <td>CLASSIC TOY TRAIN SET TRACK CARRIAGES LIGHT EN...</td>\n",
              "      <td>ccf</td>\n",
              "      <td>£9.99</td>\n",
              "      <td>2 new</td>\n",
              "      <td>17</td>\n",
              "      <td>2.0</td>\n",
              "      <td>3.9 out of 5 stars</td>\n",
              "      <td>Hobbies &gt; Model Trains &amp; Railway Sets &gt; Rail V...</td>\n",
              "      <td>http://www.amazon.co.uk/Classic-Train-Lights-B...</td>\n",
              "      <td>BIG CLASSIC TOY TRAIN SET TRACK CARRIAGE LIGHT...</td>\n",
              "      <td>Technical Details Manufacturer recommended age...</td>\n",
              "      <td>BIG CLASSIC TOY TRAIN SET TRACK CARRIAGE LIGHT...</td>\n",
              "      <td>http://www.amazon.co.uk/Train-With-Tracks-Batt...</td>\n",
              "      <td>What is the gauge of the track // Hi Paul.Trut...</td>\n",
              "      <td>**Highly Recommended!** // 5.0 // 26 May 2015 ...</td>\n",
              "      <td>{\"seller\"=&gt;[{\"Seller_name_1\"=&gt;\"DEAL-BOX\", \"Sel...</td>\n",
              "    </tr>\n",
              "    <tr>\n",
              "      <th>3</th>\n",
              "      <td>e12b92dbb8eaee78b22965d2a9bbbd9f</td>\n",
              "      <td>HORNBY Coach R4410A BR Hawksworth Corridor 3rd</td>\n",
              "      <td>Hornby</td>\n",
              "      <td>£39.99</td>\n",
              "      <td>NaN</td>\n",
              "      <td>1</td>\n",
              "      <td>2.0</td>\n",
              "      <td>5.0 out of 5 stars</td>\n",
              "      <td>Hobbies &gt; Model Trains &amp; Railway Sets &gt; Rail V...</td>\n",
              "      <td>NaN</td>\n",
              "      <td>Hornby 00 Gauge BR Hawksworth 3rd Class W 2107...</td>\n",
              "      <td>Technical Details Item Weight259 g Product Dim...</td>\n",
              "      <td>Hornby 00 Gauge BR Hawksworth 3rd Class W 2107...</td>\n",
              "      <td>NaN</td>\n",
              "      <td>NaN</td>\n",
              "      <td>I love it // 5.0 // 22 July 2013 // By\\n    \\n...</td>\n",
              "      <td>NaN</td>\n",
              "    </tr>\n",
              "    <tr>\n",
              "      <th>4</th>\n",
              "      <td>e33a9adeed5f36840ccc227db4682a36</td>\n",
              "      <td>Hornby 00 Gauge 0-4-0 Gildenlow Salt Co. Steam...</td>\n",
              "      <td>Hornby</td>\n",
              "      <td>£32.19</td>\n",
              "      <td>NaN</td>\n",
              "      <td>3</td>\n",
              "      <td>2.0</td>\n",
              "      <td>4.7 out of 5 stars</td>\n",
              "      <td>Hobbies &gt; Model Trains &amp; Railway Sets &gt; Rail V...</td>\n",
              "      <td>http://www.amazon.co.uk/Hornby-R6367-RailRoad-...</td>\n",
              "      <td>Product Description Hornby RailRoad 0-4-0 Gild...</td>\n",
              "      <td>Technical Details Item Weight159 g Product Dim...</td>\n",
              "      <td>Product Description Hornby RailRoad 0-4-0 Gild...</td>\n",
              "      <td>http://www.amazon.co.uk/Hornby-R2672-RailRoad-...</td>\n",
              "      <td>NaN</td>\n",
              "      <td>Birthday present // 5.0 // 14 April 2014 // By...</td>\n",
              "      <td>NaN</td>\n",
              "    </tr>\n",
              "  </tbody>\n",
              "</table>\n",
              "</div>"
            ],
            "text/plain": [
              "                            uniq_id  ...                                            sellers\n",
              "0  eac7efa5dbd3d667f26eb3d3ab504464  ...  {\"seller\"=>[{\"Seller_name_1\"=>\"Amazon.co.uk\", ...\n",
              "1  b17540ef7e86e461d37f3ae58b7b72ac  ...  {\"seller\"=>{\"Seller_name_1\"=>\"UHD WHOLESALE\", ...\n",
              "2  348f344247b0c1a935b1223072ef9d8a  ...  {\"seller\"=>[{\"Seller_name_1\"=>\"DEAL-BOX\", \"Sel...\n",
              "3  e12b92dbb8eaee78b22965d2a9bbbd9f  ...                                                NaN\n",
              "4  e33a9adeed5f36840ccc227db4682a36  ...                                                NaN\n",
              "\n",
              "[5 rows x 17 columns]"
            ]
          },
          "metadata": {
            "tags": []
          },
          "execution_count": 8
        }
      ]
    },
    {
      "cell_type": "markdown",
      "metadata": {
        "id": "IWHfFO3x-5wU",
        "colab_type": "text"
      },
      "source": [
        "# Cleaning Data"
      ]
    },
    {
      "cell_type": "markdown",
      "metadata": {
        "id": "RkBLUOgWPwSB",
        "colab_type": "text"
      },
      "source": [
        "There are 17 columns in the dataset. Some of the columns are full of Nan values which I will eliminate.  I wıll also drop unnecessary."
      ]
    },
    {
      "cell_type": "code",
      "metadata": {
        "id": "yHSwUOs6RlRF",
        "colab_type": "code",
        "outputId": "2d15a3f0-0bdb-41f7-acc1-bb805f8c970c",
        "colab": {
          "base_uri": "https://localhost:8080/",
          "height": 336
        }
      },
      "source": [
        "toys.isnull().sum().sort_values()"
      ],
      "execution_count": 0,
      "outputs": [
        {
          "output_type": "execute_result",
          "data": {
            "text/plain": [
              "uniq_id                                           0\n",
              "product_name                                      0\n",
              "manufacturer                                      7\n",
              "number_of_reviews                                18\n",
              "average_review_rating                            18\n",
              "customer_reviews                                 21\n",
              "product_information                              58\n",
              "product_description                             651\n",
              "description                                     651\n",
              "amazon_category_and_sub_category                690\n",
              "number_of_answered_questions                    765\n",
              "customers_who_bought_this_item_also_bought     1062\n",
              "price                                          1435\n",
              "number_available_in_stock                      2500\n",
              "items_customers_buy_after_viewing_this_item    3065\n",
              "sellers                                        3082\n",
              "customer_questions_and_answers                 9086\n",
              "dtype: int64"
            ]
          },
          "metadata": {
            "tags": []
          },
          "execution_count": 9
        }
      ]
    },
    {
      "cell_type": "code",
      "metadata": {
        "id": "M9N-1NqQqrwD",
        "colab_type": "code",
        "outputId": "3c827b19-861f-42d2-8e31-a2e62764b792",
        "colab": {
          "base_uri": "https://localhost:8080/",
          "height": 230
        }
      },
      "source": [
        "toys['price'].value_counts(ascending=False, dropna=False)"
      ],
      "execution_count": 0,
      "outputs": [
        {
          "output_type": "execute_result",
          "data": {
            "text/plain": [
              "NaN        1435\n",
              "£9.99       189\n",
              "£4.99       140\n",
              "£14.99      132\n",
              "£6.99       126\n",
              "           ... \n",
              "£255.25       1\n",
              "£22.20        1\n",
              "£198.00       1\n",
              "£62.00        1\n",
              "£18.71        1\n",
              "Name: price, Length: 2626, dtype: int64"
            ]
          },
          "metadata": {
            "tags": []
          },
          "execution_count": 10
        }
      ]
    },
    {
      "cell_type": "code",
      "metadata": {
        "id": "ERPVGsQXtwSR",
        "colab_type": "code",
        "outputId": "86be8ffb-9dd8-4464-9a28-1d1e8b9f5933",
        "colab": {
          "base_uri": "https://localhost:8080/",
          "height": 212
        }
      },
      "source": [
        "toys['number_of_answered_questions'].value_counts(dropna=False).head(10)"
      ],
      "execution_count": 0,
      "outputs": [
        {
          "output_type": "execute_result",
          "data": {
            "text/plain": [
              "1.0     6435\n",
              "2.0     1469\n",
              "NaN      765\n",
              "3.0      566\n",
              "4.0      235\n",
              "5.0      161\n",
              "6.0       82\n",
              "11.0      79\n",
              "9.0       54\n",
              "7.0       46\n",
              "Name: number_of_answered_questions, dtype: int64"
            ]
          },
          "metadata": {
            "tags": []
          },
          "execution_count": 11
        }
      ]
    },
    {
      "cell_type": "markdown",
      "metadata": {
        "id": "aR3_S1kWogYI",
        "colab_type": "text"
      },
      "source": [
        "I delete the pound symbol from the price to convert it to float from string."
      ]
    },
    {
      "cell_type": "code",
      "metadata": {
        "id": "gnpXUom2H5Pv",
        "colab_type": "code",
        "outputId": "c72fef3f-8ee9-4fea-da31-b5d7e4cf5417",
        "colab": {
          "base_uri": "https://localhost:8080/",
          "height": 197
        }
      },
      "source": [
        "# new data frame with split value columns \n",
        "new = toys[\"price\"].str.split('£', n = 1, expand = True) \n",
        "  \n",
        "new.head()\n"
      ],
      "execution_count": 0,
      "outputs": [
        {
          "output_type": "execute_result",
          "data": {
            "text/html": [
              "<div>\n",
              "<style scoped>\n",
              "    .dataframe tbody tr th:only-of-type {\n",
              "        vertical-align: middle;\n",
              "    }\n",
              "\n",
              "    .dataframe tbody tr th {\n",
              "        vertical-align: top;\n",
              "    }\n",
              "\n",
              "    .dataframe thead th {\n",
              "        text-align: right;\n",
              "    }\n",
              "</style>\n",
              "<table border=\"1\" class=\"dataframe\">\n",
              "  <thead>\n",
              "    <tr style=\"text-align: right;\">\n",
              "      <th></th>\n",
              "      <th>0</th>\n",
              "      <th>1</th>\n",
              "    </tr>\n",
              "  </thead>\n",
              "  <tbody>\n",
              "    <tr>\n",
              "      <th>0</th>\n",
              "      <td></td>\n",
              "      <td>3.42</td>\n",
              "    </tr>\n",
              "    <tr>\n",
              "      <th>1</th>\n",
              "      <td></td>\n",
              "      <td>16.99</td>\n",
              "    </tr>\n",
              "    <tr>\n",
              "      <th>2</th>\n",
              "      <td></td>\n",
              "      <td>9.99</td>\n",
              "    </tr>\n",
              "    <tr>\n",
              "      <th>3</th>\n",
              "      <td></td>\n",
              "      <td>39.99</td>\n",
              "    </tr>\n",
              "    <tr>\n",
              "      <th>4</th>\n",
              "      <td></td>\n",
              "      <td>32.19</td>\n",
              "    </tr>\n",
              "  </tbody>\n",
              "</table>\n",
              "</div>"
            ],
            "text/plain": [
              "  0      1\n",
              "0     3.42\n",
              "1    16.99\n",
              "2     9.99\n",
              "3    39.99\n",
              "4    32.19"
            ]
          },
          "metadata": {
            "tags": []
          },
          "execution_count": 12
        }
      ]
    },
    {
      "cell_type": "code",
      "metadata": {
        "id": "6Omkj-4Wy_rE",
        "colab_type": "code",
        "colab": {}
      },
      "source": [
        "# Dropping old Price column\n",
        "toys.drop(columns =[\"price\"], inplace = True) "
      ],
      "execution_count": 0,
      "outputs": []
    },
    {
      "cell_type": "code",
      "metadata": {
        "id": "s3D-jUmhyp01",
        "colab_type": "code",
        "colab": {}
      },
      "source": [
        "# making separate column from new data frame \n",
        "toys[\"price\"]= new[1] \n",
        "  \n"
      ],
      "execution_count": 0,
      "outputs": []
    },
    {
      "cell_type": "markdown",
      "metadata": {
        "id": "8E_gQ_3Ho33c",
        "colab_type": "text"
      },
      "source": [
        "\n",
        "\n",
        "I also leave the rating column only with its numeric value. \n",
        "\n",
        "\n"
      ]
    },
    {
      "cell_type": "code",
      "metadata": {
        "id": "H1CDhWmJ3vqT",
        "colab_type": "code",
        "outputId": "e0e379ce-5c8f-4552-d9d0-90aede5ae288",
        "colab": {
          "base_uri": "https://localhost:8080/",
          "height": 197
        }
      },
      "source": [
        "# new data frame with split value columns \n",
        "new_rating = toys[\"average_review_rating\"].str.split(' ', n = 1, expand = True) \n",
        "new_rating.head()"
      ],
      "execution_count": 0,
      "outputs": [
        {
          "output_type": "execute_result",
          "data": {
            "text/html": [
              "<div>\n",
              "<style scoped>\n",
              "    .dataframe tbody tr th:only-of-type {\n",
              "        vertical-align: middle;\n",
              "    }\n",
              "\n",
              "    .dataframe tbody tr th {\n",
              "        vertical-align: top;\n",
              "    }\n",
              "\n",
              "    .dataframe thead th {\n",
              "        text-align: right;\n",
              "    }\n",
              "</style>\n",
              "<table border=\"1\" class=\"dataframe\">\n",
              "  <thead>\n",
              "    <tr style=\"text-align: right;\">\n",
              "      <th></th>\n",
              "      <th>0</th>\n",
              "      <th>1</th>\n",
              "    </tr>\n",
              "  </thead>\n",
              "  <tbody>\n",
              "    <tr>\n",
              "      <th>0</th>\n",
              "      <td>4.9</td>\n",
              "      <td>out of 5 stars</td>\n",
              "    </tr>\n",
              "    <tr>\n",
              "      <th>1</th>\n",
              "      <td>4.5</td>\n",
              "      <td>out of 5 stars</td>\n",
              "    </tr>\n",
              "    <tr>\n",
              "      <th>2</th>\n",
              "      <td>3.9</td>\n",
              "      <td>out of 5 stars</td>\n",
              "    </tr>\n",
              "    <tr>\n",
              "      <th>3</th>\n",
              "      <td>5.0</td>\n",
              "      <td>out of 5 stars</td>\n",
              "    </tr>\n",
              "    <tr>\n",
              "      <th>4</th>\n",
              "      <td>4.7</td>\n",
              "      <td>out of 5 stars</td>\n",
              "    </tr>\n",
              "  </tbody>\n",
              "</table>\n",
              "</div>"
            ],
            "text/plain": [
              "     0               1\n",
              "0  4.9  out of 5 stars\n",
              "1  4.5  out of 5 stars\n",
              "2  3.9  out of 5 stars\n",
              "3  5.0  out of 5 stars\n",
              "4  4.7  out of 5 stars"
            ]
          },
          "metadata": {
            "tags": []
          },
          "execution_count": 15
        }
      ]
    },
    {
      "cell_type": "code",
      "metadata": {
        "id": "H1yjsVwf4RHF",
        "colab_type": "code",
        "outputId": "65d39fa8-af6d-4346-db8e-3b85dad62bab",
        "colab": {
          "base_uri": "https://localhost:8080/",
          "height": 567
        }
      },
      "source": [
        "# Dropping old rating column\n",
        "toys.drop(columns =[\"average_review_rating\"], inplace = True) \n",
        "\n",
        "# Adding new rating column\n",
        "toys['average_review_rating']= new_rating[0]\n",
        "\n",
        "toys.head()"
      ],
      "execution_count": 0,
      "outputs": [
        {
          "output_type": "execute_result",
          "data": {
            "text/html": [
              "<div>\n",
              "<style scoped>\n",
              "    .dataframe tbody tr th:only-of-type {\n",
              "        vertical-align: middle;\n",
              "    }\n",
              "\n",
              "    .dataframe tbody tr th {\n",
              "        vertical-align: top;\n",
              "    }\n",
              "\n",
              "    .dataframe thead th {\n",
              "        text-align: right;\n",
              "    }\n",
              "</style>\n",
              "<table border=\"1\" class=\"dataframe\">\n",
              "  <thead>\n",
              "    <tr style=\"text-align: right;\">\n",
              "      <th></th>\n",
              "      <th>uniq_id</th>\n",
              "      <th>product_name</th>\n",
              "      <th>manufacturer</th>\n",
              "      <th>number_available_in_stock</th>\n",
              "      <th>number_of_reviews</th>\n",
              "      <th>number_of_answered_questions</th>\n",
              "      <th>amazon_category_and_sub_category</th>\n",
              "      <th>customers_who_bought_this_item_also_bought</th>\n",
              "      <th>description</th>\n",
              "      <th>product_information</th>\n",
              "      <th>product_description</th>\n",
              "      <th>items_customers_buy_after_viewing_this_item</th>\n",
              "      <th>customer_questions_and_answers</th>\n",
              "      <th>customer_reviews</th>\n",
              "      <th>sellers</th>\n",
              "      <th>price</th>\n",
              "      <th>average_review_rating</th>\n",
              "    </tr>\n",
              "  </thead>\n",
              "  <tbody>\n",
              "    <tr>\n",
              "      <th>0</th>\n",
              "      <td>eac7efa5dbd3d667f26eb3d3ab504464</td>\n",
              "      <td>Hornby 2014 Catalogue</td>\n",
              "      <td>Hornby</td>\n",
              "      <td>5 new</td>\n",
              "      <td>15</td>\n",
              "      <td>1.0</td>\n",
              "      <td>Hobbies &gt; Model Trains &amp; Railway Sets &gt; Rail V...</td>\n",
              "      <td>http://www.amazon.co.uk/Hornby-R8150-Catalogue...</td>\n",
              "      <td>Product Description Hornby 2014 Catalogue Box ...</td>\n",
              "      <td>Technical Details Item Weight640 g Product Dim...</td>\n",
              "      <td>Product Description Hornby 2014 Catalogue Box ...</td>\n",
              "      <td>http://www.amazon.co.uk/Hornby-R8150-Catalogue...</td>\n",
              "      <td>Does this catalogue detail all the previous Ho...</td>\n",
              "      <td>Worth Buying For The Pictures Alone (As Ever) ...</td>\n",
              "      <td>{\"seller\"=&gt;[{\"Seller_name_1\"=&gt;\"Amazon.co.uk\", ...</td>\n",
              "      <td>3.42</td>\n",
              "      <td>4.9</td>\n",
              "    </tr>\n",
              "    <tr>\n",
              "      <th>1</th>\n",
              "      <td>b17540ef7e86e461d37f3ae58b7b72ac</td>\n",
              "      <td>FunkyBuys® Large Christmas Holiday Express Fes...</td>\n",
              "      <td>FunkyBuys</td>\n",
              "      <td>NaN</td>\n",
              "      <td>2</td>\n",
              "      <td>1.0</td>\n",
              "      <td>Hobbies &gt; Model Trains &amp; Railway Sets &gt; Rail V...</td>\n",
              "      <td>http://www.amazon.co.uk/Christmas-Holiday-Expr...</td>\n",
              "      <td>Size Name:Large FunkyBuys® Large Christmas Hol...</td>\n",
              "      <td>Technical Details Manufacturer recommended age...</td>\n",
              "      <td>Size Name:Large FunkyBuys® Large Christmas Hol...</td>\n",
              "      <td>http://www.amazon.co.uk/Christmas-Holiday-Expr...</td>\n",
              "      <td>can you turn off sounds // hi no you cant turn...</td>\n",
              "      <td>Four Stars // 4.0 // 18 Dec. 2015 // By\\n    \\...</td>\n",
              "      <td>{\"seller\"=&gt;{\"Seller_name_1\"=&gt;\"UHD WHOLESALE\", ...</td>\n",
              "      <td>16.99</td>\n",
              "      <td>4.5</td>\n",
              "    </tr>\n",
              "    <tr>\n",
              "      <th>2</th>\n",
              "      <td>348f344247b0c1a935b1223072ef9d8a</td>\n",
              "      <td>CLASSIC TOY TRAIN SET TRACK CARRIAGES LIGHT EN...</td>\n",
              "      <td>ccf</td>\n",
              "      <td>2 new</td>\n",
              "      <td>17</td>\n",
              "      <td>2.0</td>\n",
              "      <td>Hobbies &gt; Model Trains &amp; Railway Sets &gt; Rail V...</td>\n",
              "      <td>http://www.amazon.co.uk/Classic-Train-Lights-B...</td>\n",
              "      <td>BIG CLASSIC TOY TRAIN SET TRACK CARRIAGE LIGHT...</td>\n",
              "      <td>Technical Details Manufacturer recommended age...</td>\n",
              "      <td>BIG CLASSIC TOY TRAIN SET TRACK CARRIAGE LIGHT...</td>\n",
              "      <td>http://www.amazon.co.uk/Train-With-Tracks-Batt...</td>\n",
              "      <td>What is the gauge of the track // Hi Paul.Trut...</td>\n",
              "      <td>**Highly Recommended!** // 5.0 // 26 May 2015 ...</td>\n",
              "      <td>{\"seller\"=&gt;[{\"Seller_name_1\"=&gt;\"DEAL-BOX\", \"Sel...</td>\n",
              "      <td>9.99</td>\n",
              "      <td>3.9</td>\n",
              "    </tr>\n",
              "    <tr>\n",
              "      <th>3</th>\n",
              "      <td>e12b92dbb8eaee78b22965d2a9bbbd9f</td>\n",
              "      <td>HORNBY Coach R4410A BR Hawksworth Corridor 3rd</td>\n",
              "      <td>Hornby</td>\n",
              "      <td>NaN</td>\n",
              "      <td>1</td>\n",
              "      <td>2.0</td>\n",
              "      <td>Hobbies &gt; Model Trains &amp; Railway Sets &gt; Rail V...</td>\n",
              "      <td>NaN</td>\n",
              "      <td>Hornby 00 Gauge BR Hawksworth 3rd Class W 2107...</td>\n",
              "      <td>Technical Details Item Weight259 g Product Dim...</td>\n",
              "      <td>Hornby 00 Gauge BR Hawksworth 3rd Class W 2107...</td>\n",
              "      <td>NaN</td>\n",
              "      <td>NaN</td>\n",
              "      <td>I love it // 5.0 // 22 July 2013 // By\\n    \\n...</td>\n",
              "      <td>NaN</td>\n",
              "      <td>39.99</td>\n",
              "      <td>5.0</td>\n",
              "    </tr>\n",
              "    <tr>\n",
              "      <th>4</th>\n",
              "      <td>e33a9adeed5f36840ccc227db4682a36</td>\n",
              "      <td>Hornby 00 Gauge 0-4-0 Gildenlow Salt Co. Steam...</td>\n",
              "      <td>Hornby</td>\n",
              "      <td>NaN</td>\n",
              "      <td>3</td>\n",
              "      <td>2.0</td>\n",
              "      <td>Hobbies &gt; Model Trains &amp; Railway Sets &gt; Rail V...</td>\n",
              "      <td>http://www.amazon.co.uk/Hornby-R6367-RailRoad-...</td>\n",
              "      <td>Product Description Hornby RailRoad 0-4-0 Gild...</td>\n",
              "      <td>Technical Details Item Weight159 g Product Dim...</td>\n",
              "      <td>Product Description Hornby RailRoad 0-4-0 Gild...</td>\n",
              "      <td>http://www.amazon.co.uk/Hornby-R2672-RailRoad-...</td>\n",
              "      <td>NaN</td>\n",
              "      <td>Birthday present // 5.0 // 14 April 2014 // By...</td>\n",
              "      <td>NaN</td>\n",
              "      <td>32.19</td>\n",
              "      <td>4.7</td>\n",
              "    </tr>\n",
              "  </tbody>\n",
              "</table>\n",
              "</div>"
            ],
            "text/plain": [
              "                            uniq_id  ... average_review_rating\n",
              "0  eac7efa5dbd3d667f26eb3d3ab504464  ...                   4.9\n",
              "1  b17540ef7e86e461d37f3ae58b7b72ac  ...                   4.5\n",
              "2  348f344247b0c1a935b1223072ef9d8a  ...                   3.9\n",
              "3  e12b92dbb8eaee78b22965d2a9bbbd9f  ...                   5.0\n",
              "4  e33a9adeed5f36840ccc227db4682a36  ...                   4.7\n",
              "\n",
              "[5 rows x 17 columns]"
            ]
          },
          "metadata": {
            "tags": []
          },
          "execution_count": 16
        }
      ]
    },
    {
      "cell_type": "code",
      "metadata": {
        "id": "BvhkUQ5Tz4_i",
        "colab_type": "code",
        "outputId": "db3a917c-d005-46c8-9559-faa206d4c91d",
        "colab": {
          "base_uri": "https://localhost:8080/",
          "height": 336
        }
      },
      "source": [
        "toys.dtypes"
      ],
      "execution_count": 0,
      "outputs": [
        {
          "output_type": "execute_result",
          "data": {
            "text/plain": [
              "uniq_id                                         object\n",
              "product_name                                    object\n",
              "manufacturer                                    object\n",
              "number_available_in_stock                       object\n",
              "number_of_reviews                               object\n",
              "number_of_answered_questions                   float64\n",
              "amazon_category_and_sub_category                object\n",
              "customers_who_bought_this_item_also_bought      object\n",
              "description                                     object\n",
              "product_information                             object\n",
              "product_description                             object\n",
              "items_customers_buy_after_viewing_this_item     object\n",
              "customer_questions_and_answers                  object\n",
              "customer_reviews                                object\n",
              "sellers                                         object\n",
              "price                                           object\n",
              "average_review_rating                           object\n",
              "dtype: object"
            ]
          },
          "metadata": {
            "tags": []
          },
          "execution_count": 17
        }
      ]
    },
    {
      "cell_type": "markdown",
      "metadata": {
        "id": "sk68_jSBpwhx",
        "colab_type": "text"
      },
      "source": [
        "I will drop the columns I won't use and assign the new dataset to a new variable. Discarding them here will help me to reduce the number of rows that will be lost due to implementing dropna() function later."
      ]
    },
    {
      "cell_type": "code",
      "metadata": {
        "id": "cOswOcOxrK2g",
        "colab_type": "code",
        "outputId": "e61799fc-7ecf-4910-b52e-1a48ca0f5706",
        "colab": {
          "base_uri": "https://localhost:8080/",
          "height": 197
        }
      },
      "source": [
        "toys_2 = toys.drop(['product_information','items_customers_buy_after_viewing_this_item','number_available_in_stock','amazon_category_and_sub_category','customers_who_bought_this_item_also_bought','description','product_description','customer_questions_and_answers', 'customer_reviews','sellers'], axis=1)\n",
        "toys_2.tail()\n"
      ],
      "execution_count": 0,
      "outputs": [
        {
          "output_type": "execute_result",
          "data": {
            "text/html": [
              "<div>\n",
              "<style scoped>\n",
              "    .dataframe tbody tr th:only-of-type {\n",
              "        vertical-align: middle;\n",
              "    }\n",
              "\n",
              "    .dataframe tbody tr th {\n",
              "        vertical-align: top;\n",
              "    }\n",
              "\n",
              "    .dataframe thead th {\n",
              "        text-align: right;\n",
              "    }\n",
              "</style>\n",
              "<table border=\"1\" class=\"dataframe\">\n",
              "  <thead>\n",
              "    <tr style=\"text-align: right;\">\n",
              "      <th></th>\n",
              "      <th>uniq_id</th>\n",
              "      <th>product_name</th>\n",
              "      <th>manufacturer</th>\n",
              "      <th>number_of_reviews</th>\n",
              "      <th>number_of_answered_questions</th>\n",
              "      <th>price</th>\n",
              "      <th>average_review_rating</th>\n",
              "    </tr>\n",
              "  </thead>\n",
              "  <tbody>\n",
              "    <tr>\n",
              "      <th>9995</th>\n",
              "      <td>44d6967f083825a5de36ad4865a65bcd</td>\n",
              "      <td>Batman 1966 TV Series Action Figures - The Rid...</td>\n",
              "      <td>Mattel</td>\n",
              "      <td>3</td>\n",
              "      <td>3.0</td>\n",
              "      <td>22.95</td>\n",
              "      <td>5.0</td>\n",
              "    </tr>\n",
              "    <tr>\n",
              "      <th>9996</th>\n",
              "      <td>08f0747b6fc6687215ffb994c3a6fb32</td>\n",
              "      <td>Star Wars Costume, Kids Stormtrooper Costume S...</td>\n",
              "      <td>Star Wars</td>\n",
              "      <td>1</td>\n",
              "      <td>3.0</td>\n",
              "      <td>39.99</td>\n",
              "      <td>4.0</td>\n",
              "    </tr>\n",
              "    <tr>\n",
              "      <th>9997</th>\n",
              "      <td>bf6cc073f8f24e6e338190fa16f6ee9d</td>\n",
              "      <td>Defiance Lawkeeper Metal Badge Prop Replica</td>\n",
              "      <td>Olde Scotland Yard Ltd.</td>\n",
              "      <td>1</td>\n",
              "      <td>3.0</td>\n",
              "      <td>43.99</td>\n",
              "      <td>5.0</td>\n",
              "    </tr>\n",
              "    <tr>\n",
              "      <th>9998</th>\n",
              "      <td>cd783d0b8b44e631b9788b203eaaefae</td>\n",
              "      <td>Justice League of America Series 3 Green Lante...</td>\n",
              "      <td>DC Comics</td>\n",
              "      <td>1</td>\n",
              "      <td>3.0</td>\n",
              "      <td>49.81</td>\n",
              "      <td>5.0</td>\n",
              "    </tr>\n",
              "    <tr>\n",
              "      <th>9999</th>\n",
              "      <td>94d18e86e504bee1e392df7e5738b18a</td>\n",
              "      <td>Star Wars 1/72 Y-Wing Starfighter</td>\n",
              "      <td>Bandai</td>\n",
              "      <td>11</td>\n",
              "      <td>3.0</td>\n",
              "      <td>21.20</td>\n",
              "      <td>4.5</td>\n",
              "    </tr>\n",
              "  </tbody>\n",
              "</table>\n",
              "</div>"
            ],
            "text/plain": [
              "                               uniq_id  ... average_review_rating\n",
              "9995  44d6967f083825a5de36ad4865a65bcd  ...                   5.0\n",
              "9996  08f0747b6fc6687215ffb994c3a6fb32  ...                   4.0\n",
              "9997  bf6cc073f8f24e6e338190fa16f6ee9d  ...                   5.0\n",
              "9998  cd783d0b8b44e631b9788b203eaaefae  ...                   5.0\n",
              "9999  94d18e86e504bee1e392df7e5738b18a  ...                   4.5\n",
              "\n",
              "[5 rows x 7 columns]"
            ]
          },
          "metadata": {
            "tags": []
          },
          "execution_count": 18
        }
      ]
    },
    {
      "cell_type": "code",
      "metadata": {
        "id": "5GNTdkH08a6N",
        "colab_type": "code",
        "outputId": "c9dbc332-a984-449a-d89e-0becd1a3667a",
        "colab": {
          "base_uri": "https://localhost:8080/",
          "height": 176
        }
      },
      "source": [
        "print(toys_2.shape)\n",
        "toys_2.isnull().sum()"
      ],
      "execution_count": 0,
      "outputs": [
        {
          "output_type": "stream",
          "text": [
            "(10000, 7)\n"
          ],
          "name": "stdout"
        },
        {
          "output_type": "execute_result",
          "data": {
            "text/plain": [
              "uniq_id                            0\n",
              "product_name                       0\n",
              "manufacturer                       7\n",
              "number_of_reviews                 18\n",
              "number_of_answered_questions     765\n",
              "price                           1435\n",
              "average_review_rating             18\n",
              "dtype: int64"
            ]
          },
          "metadata": {
            "tags": []
          },
          "execution_count": 20
        }
      ]
    },
    {
      "cell_type": "markdown",
      "metadata": {
        "id": "_9EM2hZArIYv",
        "colab_type": "text"
      },
      "source": [
        "I can drop the Nan values now, without reducing the observations in high numbers unnecessarily. Numbers of rows declined to 7,900 from 10,000."
      ]
    },
    {
      "cell_type": "code",
      "metadata": {
        "id": "n6AZo-Rz7QKo",
        "colab_type": "code",
        "outputId": "f1ac4d50-7a42-4355-aff3-3a36e27f7fab",
        "colab": {
          "base_uri": "https://localhost:8080/",
          "height": 34
        }
      },
      "source": [
        "toys_2.dropna(inplace=True)\n",
        "print(toys_2.shape)"
      ],
      "execution_count": 0,
      "outputs": [
        {
          "output_type": "stream",
          "text": [
            "(7871, 7)\n"
          ],
          "name": "stdout"
        }
      ]
    },
    {
      "cell_type": "code",
      "metadata": {
        "id": "WZky_KyO9Z55",
        "colab_type": "code",
        "outputId": "e66a12bf-1876-4b3a-f336-430e2958c9ac",
        "colab": {
          "base_uri": "https://localhost:8080/",
          "height": 158
        }
      },
      "source": [
        "toys_2.isnull().sum()"
      ],
      "execution_count": 0,
      "outputs": [
        {
          "output_type": "execute_result",
          "data": {
            "text/plain": [
              "uniq_id                         0\n",
              "product_name                    0\n",
              "manufacturer                    0\n",
              "number_of_reviews               0\n",
              "number_of_answered_questions    0\n",
              "price                           0\n",
              "average_review_rating           0\n",
              "dtype: int64"
            ]
          },
          "metadata": {
            "tags": []
          },
          "execution_count": 22
        }
      ]
    },
    {
      "cell_type": "code",
      "metadata": {
        "id": "cs3GHK_l9afR",
        "colab_type": "code",
        "outputId": "248df6f5-0ff0-44c1-82d0-9166df4efc86",
        "colab": {
          "base_uri": "https://localhost:8080/",
          "height": 158
        }
      },
      "source": [
        "toys_2.dtypes"
      ],
      "execution_count": 0,
      "outputs": [
        {
          "output_type": "execute_result",
          "data": {
            "text/plain": [
              "uniq_id                          object\n",
              "product_name                     object\n",
              "manufacturer                     object\n",
              "number_of_reviews                object\n",
              "number_of_answered_questions    float64\n",
              "price                            object\n",
              "average_review_rating            object\n",
              "dtype: object"
            ]
          },
          "metadata": {
            "tags": []
          },
          "execution_count": 23
        }
      ]
    },
    {
      "cell_type": "markdown",
      "metadata": {
        "id": "x21DWqfarq3-",
        "colab_type": "text"
      },
      "source": [
        "I will convert some of the columns from string to float.  "
      ]
    },
    {
      "cell_type": "code",
      "metadata": {
        "id": "xwiehLzM9aiz",
        "colab_type": "code",
        "colab": {}
      },
      "source": [
        "\n",
        "toys_2.number_of_reviews=pd.to_numeric(toys_2['number_of_reviews'], errors='coerce')\n",
        "toys_2.average_review_rating=pd.to_numeric(toys_2['average_review_rating'])\n",
        "toys_2.price=pd.to_numeric(toys_2['price'], errors='coerce')"
      ],
      "execution_count": 0,
      "outputs": []
    },
    {
      "cell_type": "code",
      "metadata": {
        "id": "mPDbUiquE1hJ",
        "colab_type": "code",
        "outputId": "51c8844d-e0ee-4133-e91f-ed318a019bad",
        "colab": {
          "base_uri": "https://localhost:8080/",
          "height": 158
        }
      },
      "source": [
        "toys_2.dtypes"
      ],
      "execution_count": 0,
      "outputs": [
        {
          "output_type": "execute_result",
          "data": {
            "text/plain": [
              "uniq_id                          object\n",
              "product_name                     object\n",
              "manufacturer                     object\n",
              "number_of_reviews               float64\n",
              "number_of_answered_questions    float64\n",
              "price                           float64\n",
              "average_review_rating           float64\n",
              "dtype: object"
            ]
          },
          "metadata": {
            "tags": []
          },
          "execution_count": 25
        }
      ]
    },
    {
      "cell_type": "code",
      "metadata": {
        "id": "0wFU_a7yH648",
        "colab_type": "code",
        "outputId": "1752204e-9f94-405e-a10e-a7785c9b41b8",
        "colab": {
          "base_uri": "https://localhost:8080/",
          "height": 287
        }
      },
      "source": [
        "toys_2.describe()"
      ],
      "execution_count": 0,
      "outputs": [
        {
          "output_type": "execute_result",
          "data": {
            "text/html": [
              "<div>\n",
              "<style scoped>\n",
              "    .dataframe tbody tr th:only-of-type {\n",
              "        vertical-align: middle;\n",
              "    }\n",
              "\n",
              "    .dataframe tbody tr th {\n",
              "        vertical-align: top;\n",
              "    }\n",
              "\n",
              "    .dataframe thead th {\n",
              "        text-align: right;\n",
              "    }\n",
              "</style>\n",
              "<table border=\"1\" class=\"dataframe\">\n",
              "  <thead>\n",
              "    <tr style=\"text-align: right;\">\n",
              "      <th></th>\n",
              "      <th>number_of_reviews</th>\n",
              "      <th>number_of_answered_questions</th>\n",
              "      <th>price</th>\n",
              "      <th>average_review_rating</th>\n",
              "    </tr>\n",
              "  </thead>\n",
              "  <tbody>\n",
              "    <tr>\n",
              "      <th>count</th>\n",
              "      <td>7869.000000</td>\n",
              "      <td>7871.000000</td>\n",
              "      <td>7853.000000</td>\n",
              "      <td>7871.000000</td>\n",
              "    </tr>\n",
              "    <tr>\n",
              "      <th>mean</th>\n",
              "      <td>9.402338</td>\n",
              "      <td>1.849574</td>\n",
              "      <td>20.566291</td>\n",
              "      <td>4.708538</td>\n",
              "    </tr>\n",
              "    <tr>\n",
              "      <th>std</th>\n",
              "      <td>30.672156</td>\n",
              "      <td>2.551575</td>\n",
              "      <td>39.222383</td>\n",
              "      <td>0.370080</td>\n",
              "    </tr>\n",
              "    <tr>\n",
              "      <th>min</th>\n",
              "      <td>1.000000</td>\n",
              "      <td>1.000000</td>\n",
              "      <td>0.010000</td>\n",
              "      <td>2.300000</td>\n",
              "    </tr>\n",
              "    <tr>\n",
              "      <th>25%</th>\n",
              "      <td>1.000000</td>\n",
              "      <td>1.000000</td>\n",
              "      <td>4.990000</td>\n",
              "      <td>4.500000</td>\n",
              "    </tr>\n",
              "    <tr>\n",
              "      <th>50%</th>\n",
              "      <td>2.000000</td>\n",
              "      <td>1.000000</td>\n",
              "      <td>10.990000</td>\n",
              "      <td>5.000000</td>\n",
              "    </tr>\n",
              "    <tr>\n",
              "      <th>75%</th>\n",
              "      <td>6.000000</td>\n",
              "      <td>2.000000</td>\n",
              "      <td>20.490000</td>\n",
              "      <td>5.000000</td>\n",
              "    </tr>\n",
              "    <tr>\n",
              "      <th>max</th>\n",
              "      <td>802.000000</td>\n",
              "      <td>39.000000</td>\n",
              "      <td>995.110000</td>\n",
              "      <td>5.000000</td>\n",
              "    </tr>\n",
              "  </tbody>\n",
              "</table>\n",
              "</div>"
            ],
            "text/plain": [
              "       number_of_reviews  ...  average_review_rating\n",
              "count        7869.000000  ...            7871.000000\n",
              "mean            9.402338  ...               4.708538\n",
              "std            30.672156  ...               0.370080\n",
              "min             1.000000  ...               2.300000\n",
              "25%             1.000000  ...               4.500000\n",
              "50%             2.000000  ...               5.000000\n",
              "75%             6.000000  ...               5.000000\n",
              "max           802.000000  ...               5.000000\n",
              "\n",
              "[8 rows x 4 columns]"
            ]
          },
          "metadata": {
            "tags": []
          },
          "execution_count": 26
        }
      ]
    },
    {
      "cell_type": "code",
      "metadata": {
        "id": "dbrF90Wf8K5C",
        "colab_type": "code",
        "outputId": "b53a2711-e188-4596-e203-b3b794120176",
        "colab": {
          "base_uri": "https://localhost:8080/",
          "height": 158
        }
      },
      "source": [
        "toys_2.nunique()"
      ],
      "execution_count": 0,
      "outputs": [
        {
          "output_type": "execute_result",
          "data": {
            "text/plain": [
              "uniq_id                         7871\n",
              "product_name                    7843\n",
              "manufacturer                    2253\n",
              "number_of_reviews                182\n",
              "number_of_answered_questions      19\n",
              "price                           2516\n",
              "average_review_rating             18\n",
              "dtype: int64"
            ]
          },
          "metadata": {
            "tags": []
          },
          "execution_count": 27
        }
      ]
    },
    {
      "cell_type": "markdown",
      "metadata": {
        "id": "WA0yNf2l2PG0",
        "colab_type": "text"
      },
      "source": [
        "# Exploration And Analysis"
      ]
    },
    {
      "cell_type": "markdown",
      "metadata": {
        "id": "cLkjiqzU2im_",
        "colab_type": "text"
      },
      "source": [
        "I want to see the manufacturers with the highest number of the offerings. Brand names such as Lego, Disney,Mattel, Hasbro dominate the traditional retail channel also. Their shares over the total number of listings are low.  "
      ]
    },
    {
      "cell_type": "code",
      "metadata": {
        "id": "zXgF28xf_g7f",
        "colab_type": "code",
        "outputId": "27fdabf9-135d-4682-9a33-8e4fa122e85c",
        "colab": {
          "base_uri": "https://localhost:8080/",
          "height": 390
        }
      },
      "source": [
        "toys['manufacturer'].value_counts()[:20]"
      ],
      "execution_count": 0,
      "outputs": [
        {
          "output_type": "execute_result",
          "data": {
            "text/plain": [
              "LEGO                             171\n",
              "Disney                           167\n",
              "Oxford Diecast                   156\n",
              "Playmobil                        147\n",
              "Star Wars                        120\n",
              "Mattel                           114\n",
              "Hasbro                           110\n",
              "The Puppet Company               109\n",
              "MyTinyWorld                       93\n",
              "Corgi                             90\n",
              "Hornby                            87\n",
              "Scalextric                        76\n",
              "Pokémon                           69\n",
              "Schleich                          68\n",
              "Amscan                            65\n",
              "Every-occasion-party-supplies     62\n",
              "FunKo                             59\n",
              "Melissa & Doug                    59\n",
              "Papo                              58\n",
              "Tamiya                            57\n",
              "Name: manufacturer, dtype: int64"
            ]
          },
          "metadata": {
            "tags": []
          },
          "execution_count": 28
        }
      ]
    },
    {
      "cell_type": "code",
      "metadata": {
        "id": "-61pmnIPfiKl",
        "colab_type": "code",
        "outputId": "3c468f05-9b9b-4101-eaff-7be95a90b992",
        "colab": {
          "base_uri": "https://localhost:8080/",
          "height": 418
        }
      },
      "source": [
        "%matplotlib inline\n",
        "import matplotlib.pyplot as plt\n",
        "import numpy as np\n",
        "# Stylesheet to start from\n",
        "plt.style.use('fivethirtyeight')\n",
        "\n",
        "toys['manufacturer'].value_counts()[:10].sort_values().plot(kind='barh', figsize=(8,6), title = 'Top 10 Brands by the Number of Listings', grid=False);"
      ],
      "execution_count": 0,
      "outputs": [
        {
          "output_type": "display_data",
          "data": {
            "image/png": "[encoded data removed]",
            "text/plain": [
              "<Figure size 576x432 with 1 Axes>"
            ]
          },
          "metadata": {
            "tags": []
          }
        }
      ]
    },
    {
      "cell_type": "markdown",
      "metadata": {
        "id": "CyekOG2NsJ3X",
        "colab_type": "text"
      },
      "source": [
        "I want to learn more about the selling price levels of toys offered. This can give me some insight for my choice of product and pricing strategy. Most of the toy prices are below 50 British pounds."
      ]
    },
    {
      "cell_type": "code",
      "metadata": {
        "id": "WAeNrsb_0zfs",
        "colab_type": "code",
        "outputId": "b7e0cd10-c93a-4c92-b9d6-f958a1c21277",
        "colab": {
          "base_uri": "https://localhost:8080/",
          "height": 923
        }
      },
      "source": [
        "toys['price'].value_counts(dropna=False)[:50]"
      ],
      "execution_count": 0,
      "outputs": [
        {
          "output_type": "execute_result",
          "data": {
            "text/plain": [
              "NaN      1435\n",
              "9.99      189\n",
              "4.99      140\n",
              "14.99     132\n",
              "5.99      126\n",
              "6.99      126\n",
              "7.99      125\n",
              "12.99     124\n",
              "2.99      118\n",
              "3.99      114\n",
              "19.99     112\n",
              "11.99      89\n",
              "8.99       82\n",
              "1.99       78\n",
              "10.99      77\n",
              "24.99      69\n",
              "13.99      62\n",
              "29.99      61\n",
              "16.99      52\n",
              "17.99      42\n",
              "15.99      41\n",
              "7.95       41\n",
              "0.99       39\n",
              "39.99      39\n",
              "9.95       39\n",
              "15.00      37\n",
              "3.95       36\n",
              "1.50       32\n",
              "0.90       32\n",
              "4.49       32\n",
              "2.49       32\n",
              "34.99      30\n",
              "18.99      28\n",
              "10.00      28\n",
              "3.49       28\n",
              "1.29       27\n",
              "6.00       27\n",
              "2.50       25\n",
              "19.95      24\n",
              "12.95      24\n",
              "10.95      24\n",
              "5.00       24\n",
              "1.49       23\n",
              "5.95       23\n",
              "11.95      23\n",
              "21.99      23\n",
              "4.95       23\n",
              "6.95       23\n",
              "3.50       23\n",
              "4.50       22\n",
              "Name: price, dtype: int64"
            ]
          },
          "metadata": {
            "tags": []
          },
          "execution_count": 30
        }
      ]
    },
    {
      "cell_type": "code",
      "metadata": {
        "id": "Hv5NhtRIzmni",
        "colab_type": "code",
        "outputId": "3df4c020-46e0-4ffa-8f1c-f03987463531",
        "colab": {
          "base_uri": "https://localhost:8080/",
          "height": 535
        }
      },
      "source": [
        "toys['price'].value_counts()[:10].sort_values().plot(kind='barh', figsize=(8,8), title = 'Main Price Points, £', grid=True);"
      ],
      "execution_count": 0,
      "outputs": [
        {
          "output_type": "display_data",
          "data": {
            "image/png": "[encoded data removed]",
            "text/plain": [
              "<Figure size 576x576 with 1 Axes>"
            ]
          },
          "metadata": {
            "tags": []
          }
        }
      ]
    },
    {
      "cell_type": "markdown",
      "metadata": {
        "id": "V-LH37V0BNfP",
        "colab_type": "text"
      },
      "source": [
        "I want to inspect the features of large brands individually. So I will create seperate datasets for each brand."
      ]
    },
    {
      "cell_type": "code",
      "metadata": {
        "id": "rhmhATZ29bm4",
        "colab_type": "code",
        "outputId": "ac99ea82-fa66-4e43-e98e-ba0599a46fed",
        "colab": {
          "base_uri": "https://localhost:8080/",
          "height": 215
        }
      },
      "source": [
        "lego_df = toys_2[(toys_2['manufacturer'] == 'LEGO')]\n",
        "print(lego_df.shape)\n",
        "lego_df.head()"
      ],
      "execution_count": 0,
      "outputs": [
        {
          "output_type": "stream",
          "text": [
            "(126, 7)\n"
          ],
          "name": "stdout"
        },
        {
          "output_type": "execute_result",
          "data": {
            "text/html": [
              "<div>\n",
              "<style scoped>\n",
              "    .dataframe tbody tr th:only-of-type {\n",
              "        vertical-align: middle;\n",
              "    }\n",
              "\n",
              "    .dataframe tbody tr th {\n",
              "        vertical-align: top;\n",
              "    }\n",
              "\n",
              "    .dataframe thead th {\n",
              "        text-align: right;\n",
              "    }\n",
              "</style>\n",
              "<table border=\"1\" class=\"dataframe\">\n",
              "  <thead>\n",
              "    <tr style=\"text-align: right;\">\n",
              "      <th></th>\n",
              "      <th>uniq_id</th>\n",
              "      <th>product_name</th>\n",
              "      <th>manufacturer</th>\n",
              "      <th>number_of_reviews</th>\n",
              "      <th>number_of_answered_questions</th>\n",
              "      <th>price</th>\n",
              "      <th>average_review_rating</th>\n",
              "    </tr>\n",
              "  </thead>\n",
              "  <tbody>\n",
              "    <tr>\n",
              "      <th>614</th>\n",
              "      <td>1cde07d3e45fdfb1b1966368d3b7a522</td>\n",
              "      <td>Lego City 2824: Advent Calendar 2010</td>\n",
              "      <td>LEGO</td>\n",
              "      <td>40.0</td>\n",
              "      <td>6.0</td>\n",
              "      <td>43.87</td>\n",
              "      <td>4.7</td>\n",
              "    </tr>\n",
              "    <tr>\n",
              "      <th>626</th>\n",
              "      <td>900e782753c3cc6a6396da3315add573</td>\n",
              "      <td>LEGO Friends 41016: Advent Calendar</td>\n",
              "      <td>LEGO</td>\n",
              "      <td>87.0</td>\n",
              "      <td>1.0</td>\n",
              "      <td>24.95</td>\n",
              "      <td>4.5</td>\n",
              "    </tr>\n",
              "    <tr>\n",
              "      <th>627</th>\n",
              "      <td>15e03b806b3d90bced2186049c4f3613</td>\n",
              "      <td>LEGO Star Wars 75018: Jek-14's Stealth Starfig...</td>\n",
              "      <td>LEGO</td>\n",
              "      <td>30.0</td>\n",
              "      <td>1.0</td>\n",
              "      <td>68.87</td>\n",
              "      <td>4.8</td>\n",
              "    </tr>\n",
              "    <tr>\n",
              "      <th>634</th>\n",
              "      <td>e87cd0e23c41ae769787c4eeb4b7724c</td>\n",
              "      <td>LEGO City 7687 Advent Calendar 2009</td>\n",
              "      <td>LEGO</td>\n",
              "      <td>45.0</td>\n",
              "      <td>4.0</td>\n",
              "      <td>24.99</td>\n",
              "      <td>4.8</td>\n",
              "    </tr>\n",
              "    <tr>\n",
              "      <th>651</th>\n",
              "      <td>ec2b46b7363449a91b66a0e721ae4b9a</td>\n",
              "      <td>LEGO Star Wars 75015: Corporate Alliance Tank ...</td>\n",
              "      <td>LEGO</td>\n",
              "      <td>34.0</td>\n",
              "      <td>2.0</td>\n",
              "      <td>39.99</td>\n",
              "      <td>4.8</td>\n",
              "    </tr>\n",
              "  </tbody>\n",
              "</table>\n",
              "</div>"
            ],
            "text/plain": [
              "                              uniq_id  ... average_review_rating\n",
              "614  1cde07d3e45fdfb1b1966368d3b7a522  ...                   4.7\n",
              "626  900e782753c3cc6a6396da3315add573  ...                   4.5\n",
              "627  15e03b806b3d90bced2186049c4f3613  ...                   4.8\n",
              "634  e87cd0e23c41ae769787c4eeb4b7724c  ...                   4.8\n",
              "651  ec2b46b7363449a91b66a0e721ae4b9a  ...                   4.8\n",
              "\n",
              "[5 rows x 7 columns]"
            ]
          },
          "metadata": {
            "tags": []
          },
          "execution_count": 32
        }
      ]
    },
    {
      "cell_type": "code",
      "metadata": {
        "id": "it_SI0JS_aHI",
        "colab_type": "code",
        "outputId": "a612d11b-19ee-46b1-ed14-cee265d8f3ff",
        "colab": {
          "base_uri": "https://localhost:8080/",
          "height": 52
        }
      },
      "source": [
        "print(lego_df['price'].mean())\n",
        "print(lego_df['price'].median())"
      ],
      "execution_count": 0,
      "outputs": [
        {
          "output_type": "stream",
          "text": [
            "33.30158730158726\n",
            "18.82\n"
          ],
          "name": "stdout"
        }
      ]
    },
    {
      "cell_type": "markdown",
      "metadata": {
        "id": "1PvheZNQBkwE",
        "colab_type": "text"
      },
      "source": [
        "Calculating the average and median prices of Disney Toys"
      ]
    },
    {
      "cell_type": "code",
      "metadata": {
        "id": "eS7a1rYFBixr",
        "colab_type": "code",
        "outputId": "71814eaf-bb87-42fd-d152-b0002b317134",
        "colab": {
          "base_uri": "https://localhost:8080/",
          "height": 215
        }
      },
      "source": [
        "disney_df = toys_2[(toys_2['manufacturer'] == 'Disney')]\n",
        "print(disney_df.shape)\n",
        "disney_df.head()"
      ],
      "execution_count": 0,
      "outputs": [
        {
          "output_type": "stream",
          "text": [
            "(128, 7)\n"
          ],
          "name": "stdout"
        },
        {
          "output_type": "execute_result",
          "data": {
            "text/html": [
              "<div>\n",
              "<style scoped>\n",
              "    .dataframe tbody tr th:only-of-type {\n",
              "        vertical-align: middle;\n",
              "    }\n",
              "\n",
              "    .dataframe tbody tr th {\n",
              "        vertical-align: top;\n",
              "    }\n",
              "\n",
              "    .dataframe thead th {\n",
              "        text-align: right;\n",
              "    }\n",
              "</style>\n",
              "<table border=\"1\" class=\"dataframe\">\n",
              "  <thead>\n",
              "    <tr style=\"text-align: right;\">\n",
              "      <th></th>\n",
              "      <th>uniq_id</th>\n",
              "      <th>product_name</th>\n",
              "      <th>manufacturer</th>\n",
              "      <th>number_of_reviews</th>\n",
              "      <th>number_of_answered_questions</th>\n",
              "      <th>price</th>\n",
              "      <th>average_review_rating</th>\n",
              "    </tr>\n",
              "  </thead>\n",
              "  <tbody>\n",
              "    <tr>\n",
              "      <th>309</th>\n",
              "      <td>c375310e315e2763112e32d6b4a6f244</td>\n",
              "      <td>DESPICABLE ME 2 - Minion cuddly Soft Toy - Plu...</td>\n",
              "      <td>Disney</td>\n",
              "      <td>1.0</td>\n",
              "      <td>1.0</td>\n",
              "      <td>19.99</td>\n",
              "      <td>5.0</td>\n",
              "    </tr>\n",
              "    <tr>\n",
              "      <th>393</th>\n",
              "      <td>bbcca2bfe3b2eee013552a4b9ae33e10</td>\n",
              "      <td>Disney Mickey 2-in-1 Cushion Plush</td>\n",
              "      <td>Disney</td>\n",
              "      <td>8.0</td>\n",
              "      <td>1.0</td>\n",
              "      <td>8.05</td>\n",
              "      <td>4.1</td>\n",
              "    </tr>\n",
              "    <tr>\n",
              "      <th>639</th>\n",
              "      <td>67b207003af3513504c32927353199f1</td>\n",
              "      <td>Lanyard With Dopey Head Dangle - Snow White an...</td>\n",
              "      <td>Disney</td>\n",
              "      <td>5.0</td>\n",
              "      <td>4.0</td>\n",
              "      <td>9.71</td>\n",
              "      <td>5.0</td>\n",
              "    </tr>\n",
              "    <tr>\n",
              "      <th>858</th>\n",
              "      <td>94edb0011dae6eb9a378bc28af92448b</td>\n",
              "      <td>Disney Cars 2 Die Cast 1:55 Scale Mel Dorado #27</td>\n",
              "      <td>Disney</td>\n",
              "      <td>11.0</td>\n",
              "      <td>1.0</td>\n",
              "      <td>9.69</td>\n",
              "      <td>4.8</td>\n",
              "    </tr>\n",
              "    <tr>\n",
              "      <th>950</th>\n",
              "      <td>d14c9cf731e72d8494e76cea807a7d01</td>\n",
              "      <td>Disney Pixar Cars Diecast Boost With Flames</td>\n",
              "      <td>Disney</td>\n",
              "      <td>6.0</td>\n",
              "      <td>1.0</td>\n",
              "      <td>14.99</td>\n",
              "      <td>5.0</td>\n",
              "    </tr>\n",
              "  </tbody>\n",
              "</table>\n",
              "</div>"
            ],
            "text/plain": [
              "                              uniq_id  ... average_review_rating\n",
              "309  c375310e315e2763112e32d6b4a6f244  ...                   5.0\n",
              "393  bbcca2bfe3b2eee013552a4b9ae33e10  ...                   4.1\n",
              "639  67b207003af3513504c32927353199f1  ...                   5.0\n",
              "858  94edb0011dae6eb9a378bc28af92448b  ...                   4.8\n",
              "950  d14c9cf731e72d8494e76cea807a7d01  ...                   5.0\n",
              "\n",
              "[5 rows x 7 columns]"
            ]
          },
          "metadata": {
            "tags": []
          },
          "execution_count": 34
        }
      ]
    },
    {
      "cell_type": "code",
      "metadata": {
        "id": "ZqnbLFh-DgY4",
        "colab_type": "code",
        "outputId": "16b79e25-f5cb-4b89-eb73-14bae102d4ee",
        "colab": {
          "base_uri": "https://localhost:8080/",
          "height": 52
        }
      },
      "source": [
        "print(disney_df['price'].mean())\n",
        "print(disney_df['price'].median())"
      ],
      "execution_count": 0,
      "outputs": [
        {
          "output_type": "stream",
          "text": [
            "15.815000000000008\n",
            "10.99\n"
          ],
          "name": "stdout"
        }
      ]
    },
    {
      "cell_type": "markdown",
      "metadata": {
        "id": "mGpT6C7KDrUH",
        "colab_type": "text"
      },
      "source": [
        "Calculating the average and median prices of Oxford Diecast toys"
      ]
    },
    {
      "cell_type": "code",
      "metadata": {
        "id": "VU69mNAyEK_Y",
        "colab_type": "code",
        "outputId": "4630edd5-f745-4c64-d3fd-332f95699177",
        "colab": {
          "base_uri": "https://localhost:8080/",
          "height": 215
        }
      },
      "source": [
        "oxford_df = toys_2[(toys_2['manufacturer'] == 'Oxford Diecast')]\n",
        "print(oxford_df.shape)\n",
        "oxford_df.head()"
      ],
      "execution_count": 0,
      "outputs": [
        {
          "output_type": "stream",
          "text": [
            "(145, 7)\n"
          ],
          "name": "stdout"
        },
        {
          "output_type": "execute_result",
          "data": {
            "text/html": [
              "<div>\n",
              "<style scoped>\n",
              "    .dataframe tbody tr th:only-of-type {\n",
              "        vertical-align: middle;\n",
              "    }\n",
              "\n",
              "    .dataframe tbody tr th {\n",
              "        vertical-align: top;\n",
              "    }\n",
              "\n",
              "    .dataframe thead th {\n",
              "        text-align: right;\n",
              "    }\n",
              "</style>\n",
              "<table border=\"1\" class=\"dataframe\">\n",
              "  <thead>\n",
              "    <tr style=\"text-align: right;\">\n",
              "      <th></th>\n",
              "      <th>uniq_id</th>\n",
              "      <th>product_name</th>\n",
              "      <th>manufacturer</th>\n",
              "      <th>number_of_reviews</th>\n",
              "      <th>number_of_answered_questions</th>\n",
              "      <th>price</th>\n",
              "      <th>average_review_rating</th>\n",
              "    </tr>\n",
              "  </thead>\n",
              "  <tbody>\n",
              "    <tr>\n",
              "      <th>804</th>\n",
              "      <td>d994e8cb4d0b15683da91652901d9895</td>\n",
              "      <td>Oxford Diecast Anglia Police Panda 76105003</td>\n",
              "      <td>Oxford Diecast</td>\n",
              "      <td>4.0</td>\n",
              "      <td>11.0</td>\n",
              "      <td>4.75</td>\n",
              "      <td>4.8</td>\n",
              "    </tr>\n",
              "    <tr>\n",
              "      <th>830</th>\n",
              "      <td>8f4a9ace7bb4ae6e6d8dda96d94bd332</td>\n",
              "      <td>Oxford Diecast Evening News Metal Model</td>\n",
              "      <td>Oxford Diecast</td>\n",
              "      <td>1.0</td>\n",
              "      <td>1.0</td>\n",
              "      <td>10.95</td>\n",
              "      <td>5.0</td>\n",
              "    </tr>\n",
              "    <tr>\n",
              "      <th>835</th>\n",
              "      <td>af9511db607fe37119d4487c12f4d91d</td>\n",
              "      <td>Jaguar SS 2.5 Saloon - Cream</td>\n",
              "      <td>Oxford Diecast</td>\n",
              "      <td>1.0</td>\n",
              "      <td>1.0</td>\n",
              "      <td>24.99</td>\n",
              "      <td>5.0</td>\n",
              "    </tr>\n",
              "    <tr>\n",
              "      <th>838</th>\n",
              "      <td>168f748bc19af21dfabafdefb65522a0</td>\n",
              "      <td>Oxford Diecast Bertram Mills David Brown Tract...</td>\n",
              "      <td>Oxford Diecast</td>\n",
              "      <td>1.0</td>\n",
              "      <td>1.0</td>\n",
              "      <td>7.21</td>\n",
              "      <td>5.0</td>\n",
              "    </tr>\n",
              "    <tr>\n",
              "      <th>839</th>\n",
              "      <td>231cc7273399cc91df8f5d452eea4283</td>\n",
              "      <td>Oxford Diecast Bronze Green 76LAN188003</td>\n",
              "      <td>Oxford Diecast</td>\n",
              "      <td>2.0</td>\n",
              "      <td>1.0</td>\n",
              "      <td>6.75</td>\n",
              "      <td>4.5</td>\n",
              "    </tr>\n",
              "  </tbody>\n",
              "</table>\n",
              "</div>"
            ],
            "text/plain": [
              "                              uniq_id  ... average_review_rating\n",
              "804  d994e8cb4d0b15683da91652901d9895  ...                   4.8\n",
              "830  8f4a9ace7bb4ae6e6d8dda96d94bd332  ...                   5.0\n",
              "835  af9511db607fe37119d4487c12f4d91d  ...                   5.0\n",
              "838  168f748bc19af21dfabafdefb65522a0  ...                   5.0\n",
              "839  231cc7273399cc91df8f5d452eea4283  ...                   4.5\n",
              "\n",
              "[5 rows x 7 columns]"
            ]
          },
          "metadata": {
            "tags": []
          },
          "execution_count": 36
        }
      ]
    },
    {
      "cell_type": "code",
      "metadata": {
        "id": "NmvJUVvsEqn2",
        "colab_type": "code",
        "outputId": "20e1e656-d977-4a8a-dc9f-d254f0f97e24",
        "colab": {
          "base_uri": "https://localhost:8080/",
          "height": 52
        }
      },
      "source": [
        "print(oxford_df['price'].mean())\n",
        "print(oxford_df['price'].median())"
      ],
      "execution_count": 0,
      "outputs": [
        {
          "output_type": "stream",
          "text": [
            "10.830344827586218\n",
            "7.89\n"
          ],
          "name": "stdout"
        }
      ]
    },
    {
      "cell_type": "markdown",
      "metadata": {
        "id": "uCIOYgZyFALl",
        "colab_type": "text"
      },
      "source": [
        " Calculating the average and median prices of Playmobil toys"
      ]
    },
    {
      "cell_type": "code",
      "metadata": {
        "id": "xJZCfP3zGOXr",
        "colab_type": "code",
        "outputId": "7ad1ef96-96d4-4b5c-dfe6-cf7a45871ec2",
        "colab": {
          "base_uri": "https://localhost:8080/",
          "height": 215
        }
      },
      "source": [
        "playmobil_df = toys_2[(toys_2['manufacturer'] == 'Playmobil')]\n",
        "print(playmobil_df.shape)\n",
        "playmobil_df.head()"
      ],
      "execution_count": 0,
      "outputs": [
        {
          "output_type": "stream",
          "text": [
            "(111, 7)\n"
          ],
          "name": "stdout"
        },
        {
          "output_type": "execute_result",
          "data": {
            "text/html": [
              "<div>\n",
              "<style scoped>\n",
              "    .dataframe tbody tr th:only-of-type {\n",
              "        vertical-align: middle;\n",
              "    }\n",
              "\n",
              "    .dataframe tbody tr th {\n",
              "        vertical-align: top;\n",
              "    }\n",
              "\n",
              "    .dataframe thead th {\n",
              "        text-align: right;\n",
              "    }\n",
              "</style>\n",
              "<table border=\"1\" class=\"dataframe\">\n",
              "  <thead>\n",
              "    <tr style=\"text-align: right;\">\n",
              "      <th></th>\n",
              "      <th>uniq_id</th>\n",
              "      <th>product_name</th>\n",
              "      <th>manufacturer</th>\n",
              "      <th>number_of_reviews</th>\n",
              "      <th>number_of_answered_questions</th>\n",
              "      <th>price</th>\n",
              "      <th>average_review_rating</th>\n",
              "    </tr>\n",
              "  </thead>\n",
              "  <tbody>\n",
              "    <tr>\n",
              "      <th>604</th>\n",
              "      <td>a86f57bbf3abbddd964f1ca438a07c94</td>\n",
              "      <td>Playmobil 5494 Christmas Advent Calendar Santa...</td>\n",
              "      <td>Playmobil</td>\n",
              "      <td>199.0</td>\n",
              "      <td>6.0</td>\n",
              "      <td>15.39</td>\n",
              "      <td>4.6</td>\n",
              "    </tr>\n",
              "    <tr>\n",
              "      <th>607</th>\n",
              "      <td>e2a748b0444a17197507da171de29d62</td>\n",
              "      <td>Playmobil Advent Calendar Xmas</td>\n",
              "      <td>Playmobil</td>\n",
              "      <td>1.0</td>\n",
              "      <td>6.0</td>\n",
              "      <td>61.38</td>\n",
              "      <td>5.0</td>\n",
              "    </tr>\n",
              "    <tr>\n",
              "      <th>617</th>\n",
              "      <td>3dc26045ca282ada5bdd837c3f832dd7</td>\n",
              "      <td>Playmobil 5493 Christmas Advent Calendar Drago...</td>\n",
              "      <td>Playmobil</td>\n",
              "      <td>129.0</td>\n",
              "      <td>1.0</td>\n",
              "      <td>16.80</td>\n",
              "      <td>4.9</td>\n",
              "    </tr>\n",
              "    <tr>\n",
              "      <th>621</th>\n",
              "      <td>e637801d643980ef6ac33baaea71ec78</td>\n",
              "      <td>Playmobil 5496 Advent Calendar Christmas Room ...</td>\n",
              "      <td>Playmobil</td>\n",
              "      <td>56.0</td>\n",
              "      <td>1.0</td>\n",
              "      <td>17.99</td>\n",
              "      <td>4.8</td>\n",
              "    </tr>\n",
              "    <tr>\n",
              "      <th>637</th>\n",
              "      <td>04fd83ec261065f57ef966019881df19</td>\n",
              "      <td>PLAYMOBIL 5217 SINTERKLAAS ADVENT KALENDER CAL...</td>\n",
              "      <td>Playmobil</td>\n",
              "      <td>1.0</td>\n",
              "      <td>4.0</td>\n",
              "      <td>19.59</td>\n",
              "      <td>5.0</td>\n",
              "    </tr>\n",
              "  </tbody>\n",
              "</table>\n",
              "</div>"
            ],
            "text/plain": [
              "                              uniq_id  ... average_review_rating\n",
              "604  a86f57bbf3abbddd964f1ca438a07c94  ...                   4.6\n",
              "607  e2a748b0444a17197507da171de29d62  ...                   5.0\n",
              "617  3dc26045ca282ada5bdd837c3f832dd7  ...                   4.9\n",
              "621  e637801d643980ef6ac33baaea71ec78  ...                   4.8\n",
              "637  04fd83ec261065f57ef966019881df19  ...                   5.0\n",
              "\n",
              "[5 rows x 7 columns]"
            ]
          },
          "metadata": {
            "tags": []
          },
          "execution_count": 38
        }
      ]
    },
    {
      "cell_type": "code",
      "metadata": {
        "id": "at1qba5nGkS0",
        "colab_type": "code",
        "outputId": "0c00d53f-f3fd-430c-b146-e498865484c2",
        "colab": {
          "base_uri": "https://localhost:8080/",
          "height": 52
        }
      },
      "source": [
        "print(playmobil_df['price'].mean())\n",
        "print(playmobil_df['price'].median())"
      ],
      "execution_count": 0,
      "outputs": [
        {
          "output_type": "stream",
          "text": [
            "29.87207207207204\n",
            "17.99\n"
          ],
          "name": "stdout"
        }
      ]
    },
    {
      "cell_type": "markdown",
      "metadata": {
        "id": "syyAkS-jJt38",
        "colab_type": "text"
      },
      "source": [
        " Calculating the average and median prices of Star Wars toys\""
      ]
    },
    {
      "cell_type": "code",
      "metadata": {
        "id": "eVj8VXeiJ1yU",
        "colab_type": "code",
        "outputId": "28e0dc09-f6bb-4df4-b387-10d60ab9089b",
        "colab": {
          "base_uri": "https://localhost:8080/",
          "height": 215
        }
      },
      "source": [
        "starwars_df = toys_2[(toys_2['manufacturer'] == 'Star Wars')]\n",
        "print(starwars_df.shape)\n",
        "starwars_df.head()"
      ],
      "execution_count": 0,
      "outputs": [
        {
          "output_type": "stream",
          "text": [
            "(87, 7)\n"
          ],
          "name": "stdout"
        },
        {
          "output_type": "execute_result",
          "data": {
            "text/html": [
              "<div>\n",
              "<style scoped>\n",
              "    .dataframe tbody tr th:only-of-type {\n",
              "        vertical-align: middle;\n",
              "    }\n",
              "\n",
              "    .dataframe tbody tr th {\n",
              "        vertical-align: top;\n",
              "    }\n",
              "\n",
              "    .dataframe thead th {\n",
              "        text-align: right;\n",
              "    }\n",
              "</style>\n",
              "<table border=\"1\" class=\"dataframe\">\n",
              "  <thead>\n",
              "    <tr style=\"text-align: right;\">\n",
              "      <th></th>\n",
              "      <th>uniq_id</th>\n",
              "      <th>product_name</th>\n",
              "      <th>manufacturer</th>\n",
              "      <th>number_of_reviews</th>\n",
              "      <th>number_of_answered_questions</th>\n",
              "      <th>price</th>\n",
              "      <th>average_review_rating</th>\n",
              "    </tr>\n",
              "  </thead>\n",
              "  <tbody>\n",
              "    <tr>\n",
              "      <th>236</th>\n",
              "      <td>5f2a2131a6ed73019ebe9a94fb98cacc</td>\n",
              "      <td>Star Wars 15 inch Talking Darth Vader Plush</td>\n",
              "      <td>Star Wars</td>\n",
              "      <td>3.0</td>\n",
              "      <td>1.0</td>\n",
              "      <td>22.99</td>\n",
              "      <td>5.0</td>\n",
              "    </tr>\n",
              "    <tr>\n",
              "      <th>652</th>\n",
              "      <td>aaa408672289b67260f0b3c146c5097a</td>\n",
              "      <td>LEGO Star Wars 75023: Advent Calendar 2013</td>\n",
              "      <td>Star Wars</td>\n",
              "      <td>142.0</td>\n",
              "      <td>2.0</td>\n",
              "      <td>42.51</td>\n",
              "      <td>4.6</td>\n",
              "    </tr>\n",
              "    <tr>\n",
              "      <th>754</th>\n",
              "      <td>1668098e56bc7b0b909607e5e3e89dc1</td>\n",
              "      <td>LEGO Star Wars 75056 LEGO Star Wars Advent Cal...</td>\n",
              "      <td>Star Wars</td>\n",
              "      <td>253.0</td>\n",
              "      <td>7.0</td>\n",
              "      <td>63.97</td>\n",
              "      <td>4.7</td>\n",
              "    </tr>\n",
              "    <tr>\n",
              "      <th>1036</th>\n",
              "      <td>9efc8b828bfdb53fd971bdedb4cf677f</td>\n",
              "      <td>Star Wars: The Vintage Collection - Battle Droid</td>\n",
              "      <td>Star Wars</td>\n",
              "      <td>4.0</td>\n",
              "      <td>1.0</td>\n",
              "      <td>11.03</td>\n",
              "      <td>4.5</td>\n",
              "    </tr>\n",
              "    <tr>\n",
              "      <th>1051</th>\n",
              "      <td>e27875a83a604aa18807e7babea160bd</td>\n",
              "      <td>Star Wars Saga 2008 30Th Anniversary Wave 1 Ac...</td>\n",
              "      <td>Star Wars</td>\n",
              "      <td>2.0</td>\n",
              "      <td>1.0</td>\n",
              "      <td>10.47</td>\n",
              "      <td>5.0</td>\n",
              "    </tr>\n",
              "  </tbody>\n",
              "</table>\n",
              "</div>"
            ],
            "text/plain": [
              "                               uniq_id  ... average_review_rating\n",
              "236   5f2a2131a6ed73019ebe9a94fb98cacc  ...                   5.0\n",
              "652   aaa408672289b67260f0b3c146c5097a  ...                   4.6\n",
              "754   1668098e56bc7b0b909607e5e3e89dc1  ...                   4.7\n",
              "1036  9efc8b828bfdb53fd971bdedb4cf677f  ...                   4.5\n",
              "1051  e27875a83a604aa18807e7babea160bd  ...                   5.0\n",
              "\n",
              "[5 rows x 7 columns]"
            ]
          },
          "metadata": {
            "tags": []
          },
          "execution_count": 40
        }
      ]
    },
    {
      "cell_type": "code",
      "metadata": {
        "id": "Ssz0j18pKXpB",
        "colab_type": "code",
        "outputId": "d0448ff6-80bf-42aa-cb74-250ced95d941",
        "colab": {
          "base_uri": "https://localhost:8080/",
          "height": 52
        }
      },
      "source": [
        "print(starwars_df['price'].mean())\n",
        "print(starwars_df['price'].median())"
      ],
      "execution_count": 0,
      "outputs": [
        {
          "output_type": "stream",
          "text": [
            "24.272298850574717\n",
            "14.99\n"
          ],
          "name": "stdout"
        }
      ]
    },
    {
      "cell_type": "markdown",
      "metadata": {
        "id": "9_s9SurXiusd",
        "colab_type": "text"
      },
      "source": [
        " Calculating the average and median prices of all toys"
      ]
    },
    {
      "cell_type": "code",
      "metadata": {
        "id": "AabqUkyYi3gX",
        "colab_type": "code",
        "outputId": "6bedb107-830f-4f44-8b99-af6a6a3acad8",
        "colab": {
          "base_uri": "https://localhost:8080/",
          "height": 52
        }
      },
      "source": [
        "print(toys_2['price'].mean())\n",
        "print(toys_2['price'].median())"
      ],
      "execution_count": 0,
      "outputs": [
        {
          "output_type": "stream",
          "text": [
            "20.566290589583748\n",
            "10.99\n"
          ],
          "name": "stdout"
        }
      ]
    },
    {
      "cell_type": "code",
      "metadata": {
        "id": "OxG58P06OjMw",
        "colab_type": "code",
        "outputId": "2d491dc2-7028-446f-e7ec-b669b78838b3",
        "colab": {
          "base_uri": "https://localhost:8080/",
          "height": 54
        }
      },
      "source": [
        "data = {'Brand':['Lego', 'Disney', 'Oxford Diecast', 'Playmobil', 'Star Wars', 'All Toys'], 'Average':[33.30, 15.82, 10.83, 29.87, 24.27, 20.57], 'Median':[18.82, 10.99, 7.89, 17.99, 14.99, 10.99]}\n",
        "print(data)"
      ],
      "execution_count": 0,
      "outputs": [
        {
          "output_type": "stream",
          "text": [
            "{'Brand': ['Lego', 'Disney', 'Oxford Diecast', 'Playmobil', 'Star Wars', 'All Toys'], 'Average': [33.3, 15.82, 10.83, 29.87, 24.27, 20.57], 'Median': [18.82, 10.99, 7.89, 17.99, 14.99, 10.99]}\n"
          ],
          "name": "stdout"
        }
      ]
    },
    {
      "cell_type": "code",
      "metadata": {
        "id": "Z7b9ASG6QmDK",
        "colab_type": "code",
        "outputId": "8f7a47fe-a8ad-4f77-9e93-44e5c4e8725a",
        "colab": {
          "base_uri": "https://localhost:8080/",
          "height": 141
        }
      },
      "source": [
        "ave_med = pd.DataFrame(data) \n",
        "print(ave_med)"
      ],
      "execution_count": 0,
      "outputs": [
        {
          "output_type": "stream",
          "text": [
            "            Brand  Average  Median\n",
            "0            Lego    33.30   18.82\n",
            "1          Disney    15.82   10.99\n",
            "2  Oxford Diecast    10.83    7.89\n",
            "3       Playmobil    29.87   17.99\n",
            "4       Star Wars    24.27   14.99\n",
            "5        All Toys    20.57   10.99\n"
          ],
          "name": "stdout"
        }
      ]
    },
    {
      "cell_type": "code",
      "metadata": {
        "id": "9UAcrPArQy7a",
        "colab_type": "code",
        "outputId": "aeb0fb32-2682-45f2-8dfa-fdc086b187a1",
        "colab": {
          "base_uri": "https://localhost:8080/",
          "height": 647
        }
      },
      "source": [
        "ave_med.sort_values(by='Average').plot.bar(x='Brand', figsize=(8,8), title='Average & Median Toy Prices, £', grid=False);"
      ],
      "execution_count": 0,
      "outputs": [
        {
          "output_type": "display_data",
          "data": {
            "image/png": "[encoded data removed]",
            "text/plain": [
              "<Figure size 576x576 with 1 Axes>"
            ]
          },
          "metadata": {
            "tags": []
          }
        }
      ]
    },
    {
      "cell_type": "code",
      "metadata": {
        "id": "HiYlTtaEJ69r",
        "colab_type": "code",
        "colab": {}
      },
      "source": [
        "toys_2.rename(columns={'uniq_id':'product_id'}, inplace=True)"
      ],
      "execution_count": 0,
      "outputs": []
    },
    {
      "cell_type": "code",
      "metadata": {
        "id": "0Rk_tLZ6KtJE",
        "colab_type": "code",
        "outputId": "06af7706-5c85-4136-a320-18578ea76dcc",
        "colab": {
          "base_uri": "https://localhost:8080/",
          "height": 442
        }
      },
      "source": [
        "toys_2.plot.scatter('product_id', 'price', figsize=(8,6), title='Distribution of Toy Prices');"
      ],
      "execution_count": 0,
      "outputs": [
        {
          "output_type": "display_data",
          "data": {
            "image/png": "[encoded data removed]",
            "text/plain": [
              "<Figure size 576x432 with 1 Axes>"
            ]
          },
          "metadata": {
            "tags": []
          }
        }
      ]
    },
    {
      "cell_type": "markdown",
      "metadata": {
        "id": "vzmTjGQxW9pI",
        "colab_type": "text"
      },
      "source": [
        "As this scatter chart shows, toy prices are mostly below 200 british pounds, and generally remain under 50 british pounds. By looking at this chart, I can say that there are not many listings over 100 british pounds so either there is an opportunity to sell high-priced toys or sets on Amazon or people buy high priced toys from other websites such as etsy or physical stores rather than Amazon."
      ]
    },
    {
      "cell_type": "markdown",
      "metadata": {
        "id": "m2cDurp6NAA8",
        "colab_type": "text"
      },
      "source": [
        "I will look at the relationship between product ratings and reviews by creating a scatter plot. Listings with high ratings have more reviews. It may because products with high quality reach higher sales figures and higher sales volume brings higher number of reviews. Or it may because that people who had a bad experience with the product are not likely to write even negative reviews. "
      ]
    },
    {
      "cell_type": "code",
      "metadata": {
        "id": "ROjLwDU8hhWv",
        "colab_type": "code",
        "outputId": "0013f7bd-4f6e-472d-e938-81562835c7cd",
        "colab": {
          "base_uri": "https://localhost:8080/",
          "height": 442
        }
      },
      "source": [
        "toys_2.plot.scatter('average_review_rating', 'number_of_reviews', title='Ratings vs. Reviews', figsize=(8,6));"
      ],
      "execution_count": 0,
      "outputs": [
        {
          "output_type": "display_data",
          "data": {
            "image/png": "[encoded data removed]",
            "text/plain": [
              "<Figure size 576x432 with 1 Axes>"
            ]
          },
          "metadata": {
            "tags": []
          }
        }
      ]
    },
    {
      "cell_type": "markdown",
      "metadata": {
        "id": "wgPHkXi-NgfQ",
        "colab_type": "text"
      },
      "source": [
        "Calculating the average rating of individual brands"
      ]
    },
    {
      "cell_type": "code",
      "metadata": {
        "id": "o0xMZyoukh4Y",
        "colab_type": "code",
        "outputId": "d8ed2c2d-9a94-4ac1-8407-096298e15fda",
        "colab": {
          "base_uri": "https://localhost:8080/",
          "height": 123
        }
      },
      "source": [
        "print(lego_df['average_review_rating'].mean())\n",
        "print(disney_df['average_review_rating'].mean())\n",
        "print(oxford_df['average_review_rating'].mean())\n",
        "print(playmobil_df['average_review_rating'].mean())\n",
        "print(starwars_df['average_review_rating'].mean())\n",
        "print(toys_2['average_review_rating'].mean())"
      ],
      "execution_count": 0,
      "outputs": [
        {
          "output_type": "stream",
          "text": [
            "4.727777777777776\n",
            "4.682812499999999\n",
            "4.785517241379309\n",
            "4.719819819819822\n",
            "4.737931034482759\n",
            "4.708537669927581\n"
          ],
          "name": "stdout"
        }
      ]
    },
    {
      "cell_type": "code",
      "metadata": {
        "id": "Rsw-LsvdmHf4",
        "colab_type": "code",
        "outputId": "69a76ce5-3b57-4099-af63-c5a97e88d318",
        "colab": {
          "base_uri": "https://localhost:8080/",
          "height": 34
        }
      },
      "source": [
        "data_2 = {'Brand':['Lego', 'Disney', 'Oxford Diecast', 'Playmobil', 'Star Wars', 'All Toys'], 'Average':[4.728, 4.683, 4.789, 4.72, 4.738, 4.709]}\n",
        "print(data_2)"
      ],
      "execution_count": 0,
      "outputs": [
        {
          "output_type": "stream",
          "text": [
            "{'Brand': ['Lego', 'Disney', 'Oxford Diecast', 'Playmobil', 'Star Wars', 'All Toys'], 'Average': [4.728, 4.683, 4.789, 4.72, 4.738, 4.709]}\n"
          ],
          "name": "stdout"
        }
      ]
    },
    {
      "cell_type": "code",
      "metadata": {
        "id": "MuNsMyJLmoyV",
        "colab_type": "code",
        "outputId": "d7771f60-a93e-420a-cd56-2fe602ba827a",
        "colab": {
          "base_uri": "https://localhost:8080/",
          "height": 141
        }
      },
      "source": [
        "ave_rat = pd.DataFrame(data_2) \n",
        "print(ave_rat)"
      ],
      "execution_count": 0,
      "outputs": [
        {
          "output_type": "stream",
          "text": [
            "            Brand  Average\n",
            "0            Lego    4.728\n",
            "1          Disney    4.683\n",
            "2  Oxford Diecast    4.789\n",
            "3       Playmobil    4.720\n",
            "4       Star Wars    4.738\n",
            "5        All Toys    4.709\n"
          ],
          "name": "stdout"
        }
      ]
    },
    {
      "cell_type": "code",
      "metadata": {
        "id": "WKaLmvvD_Bu9",
        "colab_type": "code",
        "outputId": "9666621f-c64b-4203-912d-9949acdb9926",
        "colab": {
          "base_uri": "https://localhost:8080/",
          "height": 473
        }
      },
      "source": [
        "ave_rat.sort_values(by='Average').plot.bar(x='Brand', figsize=(5,5), title='Average Ratings', ylim=(4.5,4.8), legend=False, grid=False);"
      ],
      "execution_count": 0,
      "outputs": [
        {
          "output_type": "display_data",
          "data": {
            "image/png": "[encoded data removed]",
            "text/plain": [
              "<Figure size 360x360 with 1 Axes>"
            ]
          },
          "metadata": {
            "tags": []
          }
        }
      ]
    },
    {
      "cell_type": "markdown",
      "metadata": {
        "id": "nJQBJcmjUx73",
        "colab_type": "text"
      },
      "source": [
        "Average ratings of the listed toy products are high. There are not many products with ratings below 4 stars. The average rating of all toys listed is 4.71 while Oxford Diecast brand leads the group with 4.79 stars. Within the group, Disney brand is the only one with an average rating lower than overall toy ratings. It seems that customers are satisfied with quality of the current toy offerings."
      ]
    },
    {
      "cell_type": "markdown",
      "metadata": {
        "id": "dKDP_XXoUqwM",
        "colab_type": "text"
      },
      "source": [
        "# Conclusions\n",
        "\n",
        "Even though the dataset lacked the sales figures, an important feature, it gave us some insights about toy brands, ratings and prices. This analysis may assist an entrepreneur to ask better questions for the product choice and pricing.# New Section"
      ]
    }
  ]
}